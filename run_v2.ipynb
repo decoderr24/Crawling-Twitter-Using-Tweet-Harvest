{
  "cells": [
    {
      "cell_type": "markdown",
      "metadata": {
        "id": "xEWpayxURuUn"
      },
      "source": [
        "# Crawl Data Twitter\n",
        "\n",
        "---\n",
        "\n",
        "\n",
        "Topic : rafael alun\n",
        "\n",
        "## tahapan\n",
        "- buka twitter\n",
        "- login twitter\n",
        "- klik kanan -> klik inspect\n",
        "- klik >> pilih application\n",
        "- tekan storage > cookies\n",
        "- pilih auth_token > lalu copy paste\n",
        "\n",
        "bentuknya seperti ini: f7e44a5f89d49fec0c9b3fe33832acbc6a68xxx\n",
        "\n"
      ]
    },
    {
      "cell_type": "code",
      "execution_count": null,
      "metadata": {
        "id": "6S00x_f6-GeD"
      },
      "outputs": [],
      "source": [
        "#@title Twitter Auth Token\n",
        "\n",
        "twitter_auth_token = '###'"
      ]
    },
    {
      "cell_type": "code",
      "execution_count": null,
      "metadata": {
        "collapsed": true,
        "id": "4UIL1x21P9rQ"
      },
      "outputs": [],
      "source": [
        "# Import required Python package\n",
        "# !pip install pandas\n",
        "\n",
        "# Install Node.js (because tweet-harvest built using Node.js)\n",
        "!sudo apt-get update\n",
        "!sudo apt-get install -y ca-certificates curl gnupg\n",
        "!sudo mkdir -p /etc/apt/keyrings\n",
        "!curl -fsSL https://deb.nodesource.com/gpgkey/nodesource-repo.gpg.key | sudo gpg --dearmor -o /etc/apt/keyrings/nodesource.gpg\n",
        "\n",
        "!NODE_MAJOR=20 && echo \"deb [signed-by=/etc/apt/keyrings/nodesource.gpg] https://deb.nodesource.com/node_$NODE_MAJOR.x nodistro main\" | sudo tee /etc/apt/sources.list.d/nodesource.list\n",
        "\n",
        "!sudo apt-get update\n",
        "!sudo apt-get install nodejs -y\n",
        "\n",
        "!node -v"
      ]
    },
    {
      "cell_type": "code",
      "execution_count": null,
      "metadata": {
        "id": "LYDR51dJlVlX"
      },
      "outputs": [],
      "source": [
        "# Define the variables\n",
        "keyword = 'pilgub'\n",
        "since_date = '2024-09-01'\n",
        "until_date = '2024-09-12'\n",
        "filename = f'{keyword.replace(\" \", \"\")}_{since_date}_{until_date}.csv'\n",
        "search_keyword = f'{keyword} lang:id since:{since_date} until:{until_date}'\n",
        "limit = 1000\n",
        "\n",
        "# Execute the command\n",
        "!npx -y tweet-harvest@2.6.1 -o \"{filename}\" -s \"{search_keyword}\" --tab \"LATEST\" -l {limit} --token {twitter_auth_token}\n"
      ]
    },
    {
      "cell_type": "code",
      "source": [],
      "metadata": {
        "id": "SBsnEyyVd6mq"
      },
      "execution_count": null,
      "outputs": []
    }
  ],
  "metadata": {
    "colab": {
      "provenance": []
    },
    "kernelspec": {
      "display_name": "Python 3",
      "name": "python3"
    },
    "language_info": {
      "name": "python"
    }
  },
  "nbformat": 4,
  "nbformat_minor": 0
}